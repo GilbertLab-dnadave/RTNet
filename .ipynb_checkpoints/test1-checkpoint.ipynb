{
 "cells": [
  {
   "cell_type": "code",
   "execution_count": null,
   "metadata": {
    "collapsed": false,
    "scrolled": true
   },
   "outputs": [],
   "source": [
    "# 2017 Apr 20 : 1492660800.0\n",
    "# 2017 July 18, 8AM : 1500379402.0 (roughly)\n",
    "import os\n",
    "import sys\n",
    "from time import sleep\n",
    "from poloniex import Poloniex\n",
    "\n",
    "\n",
    "start = 1492660800\n",
    "end = 1500379402\n",
    "period = 300\n",
    "polo = Poloniex()\n",
    "chart = polo.returnChartData('USDT_ETH', period, 1492660800.0)\n",
    "sleep(1)\n",
    "trade_hist = []\n",
    "each_trade_hist = None\n",
    "coach = polo.Coach()\n",
    "for each_interval_ind, each_interval in enumerate(xrange(start, end, 300)):\n",
    "    if each_interval_ind % 6 == 0:\n",
    "        print each_interval\n",
    "#         sleep(1)\n",
    "    each_trade_hist = polo.marketTradeHist('USDT_ETH', each_interval, each_interval+period)\t\n",
    "    trade_hist.append(each_trade_hist)\n",
    "    coach.wait()\n",
    "\n",
    "print len(chart)\n",
    "print len(trade_hist)\n"
   ]
  },
  {
   "cell_type": "code",
   "execution_count": null,
   "metadata": {
    "collapsed": true
   },
   "outputs": [],
   "source": [
    "import pickle\n",
    "pickle.dump(trade_hist, open('./trade_hist.pickle', 'w'))\n"
   ]
  }
 ],
 "metadata": {
  "kernelspec": {
   "display_name": "Python 2",
   "language": "python",
   "name": "python2"
  },
  "language_info": {
   "codemirror_mode": {
    "name": "ipython",
    "version": 2
   },
   "file_extension": ".py",
   "mimetype": "text/x-python",
   "name": "python",
   "nbconvert_exporter": "python",
   "pygments_lexer": "ipython2",
   "version": "2.7.13"
  }
 },
 "nbformat": 4,
 "nbformat_minor": 2
}
