{
 "cells": [
  {
   "cell_type": "code",
   "execution_count": 47,
   "metadata": {
    "collapsed": false
   },
   "outputs": [],
   "source": [
    "# 2017 Apr 20 : 1492660800.0\n",
    "# 2017 July 18, 8AM : 1500379402.0 (roughly)\n",
    "import os\n",
    "import sys\n",
    "from time import sleep\n",
    "from poloniex import Poloniex\n",
    "import numpy as np\n",
    "from sklearn.svm import SVC\n",
    "import random\n",
    "from sklearn.cross_validation import StratifiedKFold\n",
    "from sklearn.cross_validation import KFold\n",
    "import pickle\n",
    "from datetime import datetime\n",
    "\n",
    "trade_hist = pickle.load(open('./trade_hist.pickle'))\n",
    "start = 1492660800\n",
    "end = 1500379402\n",
    "period = 300\n",
    "leastTrade = 30\n",
    "diff = int(60*60*4 / period)\n",
    "polo = Poloniex()\n",
    "chart = polo.returnChartData('USDT_ETH', period, start)\n",
    "sleep(1)\n",
    "coach = polo.coach\n",
    "# trade_hist = []\n",
    "# for  each_interval_ind, each_interval in enumerate(xrange(start, end, 300)):\n",
    "# \tif each_interval_ind % 6 == 0:\n",
    "# \t\tprint each_interval\n",
    "# \teach_trade_hist = polo.marketTradeHist('USDT_ETH', each_interval, each_interval+period)\t\n",
    "# \ttrade_hist.append(each_trade_hist)\n",
    "# \tcoach.wait()\n",
    "\n",
    "chart = chart[diff:]"
   ]
  },
  {
   "cell_type": "code",
   "execution_count": 57,
   "metadata": {
    "collapsed": true
   },
   "outputs": [],
   "source": [
    "# validate input\n",
    "for iInd, i in enumerate(trade_hist):\n",
    "\tif i == []: continue\n",
    "\tfor each in i:\n",
    "\t    here_date = each['date']\n",
    "\t    dobj = datetime.strptime(here_date, '%Y-%m-%d %H:%M:%S')\n",
    "\t    timestamp1 = time.mktime(dobj.timetuple())\n",
    "\t    timestamp2 = chart[iInd]['date']\n",
    "\t    assert 0<=timestamp1 - timestamp2<=300"
   ]
  },
  {
   "cell_type": "code",
   "execution_count": 64,
   "metadata": {
    "collapsed": false
   },
   "outputs": [
    {
     "data": {
      "text/plain": [
       "[<matplotlib.lines.Line2D at 0x12028f650>]"
      ]
     },
     "execution_count": 64,
     "metadata": {},
     "output_type": "execute_result"
    },
    {
     "data": {
      "image/png": "[encoded data removed]",
      "text/plain": [
       "<matplotlib.figure.Figure at 0x11f75b250>"
      ]
     },
     "metadata": {},
     "output_type": "display_data"
    }
   ],
   "source": [
    "%matplotlib inline\n",
    "import matplotlib.pyplot as plt\n",
    "tt = [len(i) for i in trade_hist]\n",
    "tt.sort()\n",
    "plt.plot(tt)"
   ]
  },
  {
   "cell_type": "code",
   "execution_count": 65,
   "metadata": {
    "collapsed": false
   },
   "outputs": [
    {
     "name": "stdout",
     "output_type": "stream",
     "text": [
      "14754\n",
      "14754\n"
     ]
    }
   ],
   "source": [
    "leastTrade = 30\n",
    "feats = []\n",
    "y = []\n",
    "for each_trade, each_chart in zip(trade_hist, chart):\n",
    "\tif len(each_trade)<leastTrade:\n",
    "\t\tcontinue\n",
    "\trandom.shuffle(each_trade)\n",
    "\teach_trade = each_trade[:leastTrade]\n",
    "\tfeat = []\n",
    "\tfor i in each_trade:\n",
    "\t\tfeat.append(float(i['amount']))\n",
    "\t\tfeat.append(float(i['rate']))\n",
    "\t\tif i['type'] == 'sell':\n",
    "\t\t\tfeat.append(0)\n",
    "\t\telse:\n",
    "\t\t\tfeat.append(1)\n",
    "\tfeat.append(float(each_chart['weightedAverage']))\n",
    "\tfeats.append(feat)\n",
    "\tdiff = float(each_chart['close']) - float(each_chart['open'])\n",
    "\tif diff<0:\n",
    "\t\ty.append(0)\n",
    "\telse:\n",
    "\t\ty.append(1)\n",
    "\n",
    "feats = np.array(feats)\n",
    "y = np.array(y)\n",
    "print len(feats)\n",
    "print len(y)"
   ]
  },
  {
   "cell_type": "code",
   "execution_count": 73,
   "metadata": {
    "collapsed": false
   },
   "outputs": [],
   "source": [
    "from sklearn import preprocessing\n",
    "feats = preprocessing.normalize(feats)"
   ]
  },
  {
   "cell_type": "code",
   "execution_count": 75,
   "metadata": {
    "collapsed": false
   },
   "outputs": [
    {
     "name": "stdout",
     "output_type": "stream",
     "text": [
      "0.527278888512 0.001 0.001 0\n",
      "0.527278888512 0.001 0.001 1\n",
      "0.527278888512 0.001 0.001 2\n",
      "0.527278888512 0.001 0.001 3\n",
      "0.527457627119 0.001 0.001 4\n",
      "0.527278888512 0.001 0.1 0\n",
      "0.527278888512 0.001 0.1 1\n",
      "0.527278888512 0.001 0.1 2\n",
      "0.527278888512 0.001 0.1 3\n",
      "0.527457627119 0.001 0.1 4\n",
      "0.527278888512 0.001 10 0\n",
      "0.527278888512 0.001 10 1\n",
      "0.527278888512 0.001 10 2\n",
      "0.527278888512 0.001 10 3\n",
      "0.527457627119 0.001 10 4\n",
      "0.527278888512 0.1 0.001 0\n",
      "0.527278888512 0.1 0.001 1\n",
      "0.527278888512 0.1 0.001 2\n",
      "0.527278888512 0.1 0.001 3\n"
     ]
    },
    {
     "ename": "KeyboardInterrupt",
     "evalue": "",
     "output_type": "error",
     "traceback": [
      "\u001b[0;31m---------------------------------------------------------------------------\u001b[0m",
      "\u001b[0;31mKeyboardInterrupt\u001b[0m                         Traceback (most recent call last)",
      "\u001b[0;32m<ipython-input-75-d9d9ae949704>\u001b[0m in \u001b[0;36m<module>\u001b[0;34m()\u001b[0m\n\u001b[1;32m     15\u001b[0m                         \u001b[0;31m# SVM\u001b[0m\u001b[0;34m\u001b[0m\u001b[0;34m\u001b[0m\u001b[0m\n\u001b[1;32m     16\u001b[0m                         \u001b[0msvmClf\u001b[0m\u001b[0;34m=\u001b[0m\u001b[0mSVC\u001b[0m\u001b[0;34m(\u001b[0m\u001b[0mC\u001b[0m\u001b[0;34m=\u001b[0m\u001b[0meachThresh\u001b[0m\u001b[0;34m,\u001b[0m\u001b[0mgamma\u001b[0m\u001b[0;34m=\u001b[0m\u001b[0meachThresh2\u001b[0m\u001b[0;34m)\u001b[0m\u001b[0;34m\u001b[0m\u001b[0m\n\u001b[0;32m---> 17\u001b[0;31m                         \u001b[0msvmClf\u001b[0m\u001b[0;34m.\u001b[0m\u001b[0mfit\u001b[0m\u001b[0;34m(\u001b[0m\u001b[0mfeats\u001b[0m\u001b[0;34m[\u001b[0m\u001b[0mcvTrain\u001b[0m\u001b[0;34m]\u001b[0m\u001b[0;34m,\u001b[0m\u001b[0my\u001b[0m\u001b[0;34m[\u001b[0m\u001b[0mcvTrain\u001b[0m\u001b[0;34m]\u001b[0m\u001b[0;34m)\u001b[0m\u001b[0;34m\u001b[0m\u001b[0m\n\u001b[0m\u001b[1;32m     18\u001b[0m                         \u001b[0;31m#####\u001b[0m\u001b[0;34m\u001b[0m\u001b[0;34m\u001b[0m\u001b[0m\n\u001b[1;32m     19\u001b[0m                         \u001b[0mnew_predicted\u001b[0m \u001b[0;34m=\u001b[0m \u001b[0msvmClf\u001b[0m\u001b[0;34m.\u001b[0m\u001b[0mpredict\u001b[0m\u001b[0;34m(\u001b[0m\u001b[0mfeats\u001b[0m\u001b[0;34m[\u001b[0m\u001b[0mcvTest\u001b[0m\u001b[0;34m]\u001b[0m\u001b[0;34m)\u001b[0m\u001b[0;34m\u001b[0m\u001b[0m\n",
      "\u001b[0;32m/Users/sanari85/anaconda/lib/python2.7/site-packages/sklearn/svm/base.pyc\u001b[0m in \u001b[0;36mfit\u001b[0;34m(self, X, y, sample_weight)\u001b[0m\n\u001b[1;32m    187\u001b[0m \u001b[0;34m\u001b[0m\u001b[0m\n\u001b[1;32m    188\u001b[0m         \u001b[0mseed\u001b[0m \u001b[0;34m=\u001b[0m \u001b[0mrnd\u001b[0m\u001b[0;34m.\u001b[0m\u001b[0mrandint\u001b[0m\u001b[0;34m(\u001b[0m\u001b[0mnp\u001b[0m\u001b[0;34m.\u001b[0m\u001b[0miinfo\u001b[0m\u001b[0;34m(\u001b[0m\u001b[0;34m'i'\u001b[0m\u001b[0;34m)\u001b[0m\u001b[0;34m.\u001b[0m\u001b[0mmax\u001b[0m\u001b[0;34m)\u001b[0m\u001b[0;34m\u001b[0m\u001b[0m\n\u001b[0;32m--> 189\u001b[0;31m         \u001b[0mfit\u001b[0m\u001b[0;34m(\u001b[0m\u001b[0mX\u001b[0m\u001b[0;34m,\u001b[0m \u001b[0my\u001b[0m\u001b[0;34m,\u001b[0m \u001b[0msample_weight\u001b[0m\u001b[0;34m,\u001b[0m \u001b[0msolver_type\u001b[0m\u001b[0;34m,\u001b[0m \u001b[0mkernel\u001b[0m\u001b[0;34m,\u001b[0m \u001b[0mrandom_seed\u001b[0m\u001b[0;34m=\u001b[0m\u001b[0mseed\u001b[0m\u001b[0;34m)\u001b[0m\u001b[0;34m\u001b[0m\u001b[0m\n\u001b[0m\u001b[1;32m    190\u001b[0m         \u001b[0;31m# see comment on the other call to np.iinfo in this file\u001b[0m\u001b[0;34m\u001b[0m\u001b[0;34m\u001b[0m\u001b[0m\n\u001b[1;32m    191\u001b[0m \u001b[0;34m\u001b[0m\u001b[0m\n",
      "\u001b[0;32m/Users/sanari85/anaconda/lib/python2.7/site-packages/sklearn/svm/base.pyc\u001b[0m in \u001b[0;36m_dense_fit\u001b[0;34m(self, X, y, sample_weight, solver_type, kernel, random_seed)\u001b[0m\n\u001b[1;32m    254\u001b[0m                 \u001b[0mcache_size\u001b[0m\u001b[0;34m=\u001b[0m\u001b[0mself\u001b[0m\u001b[0;34m.\u001b[0m\u001b[0mcache_size\u001b[0m\u001b[0;34m,\u001b[0m \u001b[0mcoef0\u001b[0m\u001b[0;34m=\u001b[0m\u001b[0mself\u001b[0m\u001b[0;34m.\u001b[0m\u001b[0mcoef0\u001b[0m\u001b[0;34m,\u001b[0m\u001b[0;34m\u001b[0m\u001b[0m\n\u001b[1;32m    255\u001b[0m                 \u001b[0mgamma\u001b[0m\u001b[0;34m=\u001b[0m\u001b[0mself\u001b[0m\u001b[0;34m.\u001b[0m\u001b[0m_gamma\u001b[0m\u001b[0;34m,\u001b[0m \u001b[0mepsilon\u001b[0m\u001b[0;34m=\u001b[0m\u001b[0mself\u001b[0m\u001b[0;34m.\u001b[0m\u001b[0mepsilon\u001b[0m\u001b[0;34m,\u001b[0m\u001b[0;34m\u001b[0m\u001b[0m\n\u001b[0;32m--> 256\u001b[0;31m                 max_iter=self.max_iter, random_seed=random_seed)\n\u001b[0m\u001b[1;32m    257\u001b[0m \u001b[0;34m\u001b[0m\u001b[0m\n\u001b[1;32m    258\u001b[0m         \u001b[0mself\u001b[0m\u001b[0;34m.\u001b[0m\u001b[0m_warn_from_fit_status\u001b[0m\u001b[0;34m(\u001b[0m\u001b[0;34m)\u001b[0m\u001b[0;34m\u001b[0m\u001b[0m\n",
      "\u001b[0;31mKeyboardInterrupt\u001b[0m: "
     ]
    }
   ],
   "source": [
    "\n",
    "kFold = 5\n",
    "threshList=[pow(10,x) for x in range(-3,3, 2)]\n",
    "thresh2List=[pow(10,x) for x in range(-3,3, 2)]\n",
    "\n",
    "best_score = -1\n",
    "best_thresh1 = None\n",
    "best_thresh2 = None\n",
    "for eachThresh,indEachThresh in zip(threshList,range(len(threshList))):\n",
    "\tfor eachThresh2,indEachThresh2 in zip(thresh2List,range(len(thresh2List))):\n",
    "\t\tskf=StratifiedKFold(y, kFold, shuffle=True)\n",
    "\t\tscore = 0\n",
    "\t\tfor cv_ind, (cvTrain,cvTest) in enumerate(skf):\n",
    "\t\t\tscore2 = 0\n",
    "\t\t\t# SVM\n",
    "\t\t\tsvmClf=SVC(C=eachThresh,gamma=eachThresh2)\n",
    "\t\t\tsvmClf.fit(feats[cvTrain],y[cvTrain])\n",
    "\t\t\t#####\n",
    "\t\t\tnew_predicted = svmClf.predict(feats[cvTest])\n",
    "\t\t\tfor a, b in zip(new_predicted, y[cvTest]):\n",
    "\t\t\t\tif a==b:\n",
    "\t\t\t\t\tscore+=1\n",
    "\t\t\t\t\tscore2+=1\n",
    "\t\t\tprint score2 / float(len(cvTest)), eachThresh, eachThresh2, cv_ind\n",
    "\t\tif best_score < score:\n",
    "\t\t\tbest_score = score\n",
    "\t\t\tbest_thresh1 = eachThresh\n",
    "\t\t\tbest_thresh2 = eachThresh2\n",
    "print best_thresh1, best_thresh2, best_score"
   ]
  }
 ],
 "metadata": {
  "kernelspec": {
   "display_name": "Python 2",
   "language": "python",
   "name": "python2"
  },
  "language_info": {
   "codemirror_mode": {
    "name": "ipython",
    "version": 2
   },
   "file_extension": ".py",
   "mimetype": "text/x-python",
   "name": "python",
   "nbconvert_exporter": "python",
   "pygments_lexer": "ipython2",
   "version": "2.7.13"
  }
 },
 "nbformat": 4,
 "nbformat_minor": 2
}
